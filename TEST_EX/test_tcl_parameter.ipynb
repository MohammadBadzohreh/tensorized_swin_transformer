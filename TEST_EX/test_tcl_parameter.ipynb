{
 "cells": [
  {
   "cell_type": "code",
   "execution_count": 2,
   "id": "947a4835",
   "metadata": {},
   "outputs": [
    {
     "name": "stdout",
     "output_type": "stream",
     "text": [
      "Total parameters count: 55\n"
     ]
    }
   ],
   "source": [
    "import torch\n",
    "import torch.nn as nn\n",
    "\n",
    "# Define a simple model with one linear layer\n",
    "class SimpleModel(nn.Module):\n",
    "    def __init__(self, input_features, output_features):\n",
    "        super(SimpleModel, self).__init__()\n",
    "        # Initialize a linear layer\n",
    "        self.linear = nn.Linear(input_features, output_features)\n",
    "\n",
    "    def forward(self, x):\n",
    "        # Pass the input through the linear layer\n",
    "        return self.linear(x)\n",
    "\n",
    "# Create an instance of the model\n",
    "input_features = 10\n",
    "output_features = 5\n",
    "model = SimpleModel(input_features, output_features)\n",
    "\n",
    "# Calculate the total number of parameters in the model\n",
    "total_params = sum(p.numel() for p in model.parameters())\n",
    "\n",
    "# Print the number of parameters\n",
    "print(\"Total parameters count:\", total_params)\n"
   ]
  },
  {
   "cell_type": "code",
   "execution_count": null,
   "id": "82b4bbce",
   "metadata": {},
   "outputs": [],
   "source": [
    "import torch\n",
    "import torch.nn as nn\n",
    "\n",
    "# Define a simple model with one linear layer\n",
    "class SimpleModel(nn.Module):\n",
    "    def __init__(self, input_features, output_features):\n",
    "        super(SimpleModel, self).__init__()\n",
    "        # Initialize a linear layer\n",
    "        self.linear = nn.Linear(input_features, output_features)\n",
    "\n",
    "    def forward(self, x):\n",
    "        # Pass the input through the linear layer\n",
    "        return self.linear(x)\n",
    "\n",
    "# Create an instance of the model\n",
    "input_features = 10\n",
    "output_features = 5\n",
    "model = SimpleModel(input_features, output_features)\n",
    "\n",
    "# Calculate the total number of parameters in the model\n",
    "total_params = sum(p.numel() for p in model.parameters())\n",
    "\n",
    "# Print the number of parameters\n",
    "print(\"Total parameters count:\", total_params)\n"
   ]
  },
  {
   "cell_type": "code",
   "execution_count": 3,
   "id": "543eeb62",
   "metadata": {},
   "outputs": [
    {
     "name": "stdout",
     "output_type": "stream",
     "text": [
      "Total trainable parameters: 200\n"
     ]
    }
   ],
   "source": [
    "import sys\n",
    "sys.path.append(\"..\")  # Make sure the Tensorized_Layers module is in your Python path\n",
    "from Tensorized_Layers.TCL import TCL  # Import your custom TCL layer\n",
    "import torch\n",
    "import torch.nn as nn\n",
    "\n",
    "# Define a simple model using the custom tensorized layer\n",
    "class TensorizedModel(nn.Module):\n",
    "    def __init__(self):\n",
    "        super(TensorizedModel, self).__init__()\n",
    "        # Initialize the TCL layer with provided parameters\n",
    "        self.tensorized_linear = TCL(\n",
    "            input_size=(1, 56, 56, 2, 6, 8),\n",
    "            rank=(2, 6, 8),\n",
    "            ignore_modes=(0, 1, 2),\n",
    "            bias=True,\n",
    "            device=\"cpu\"\n",
    "        )\n",
    "    \n",
    "    def forward(self, x):\n",
    "        # Pass the input tensor through the tensorized layer\n",
    "        return self.tensorized_linear(x)\n",
    "\n",
    "# Instantiate the model\n",
    "model = TensorizedModel()\n",
    "\n",
    "# Create a random input tensor with the specified shape (1, 56, 56, 2, 6, 8)\n",
    "input_tensor = torch.randn((1, 56, 56, 2, 6, 8))\n",
    "\n",
    "# Pass the random input tensor through the model\n",
    "output = model(input_tensor)\n",
    "\n",
    "# Calculate the total number of trainable parameters\n",
    "total_params = sum(p.numel() for p in model.parameters() if p.requires_grad)\n",
    "\n",
    "print(\"Total trainable parameters:\", total_params)\n"
   ]
  },
  {
   "cell_type": "code",
   "execution_count": 4,
   "id": "04eb8746",
   "metadata": {},
   "outputs": [
    {
     "name": "stdout",
     "output_type": "stream",
     "text": [
      "Parameter: tensorized_linear.b | Shape: torch.Size([2, 6, 8])\n",
      "Parameter: tensorized_linear.u0 | Shape: torch.Size([2, 2])\n",
      "Parameter: tensorized_linear.u1 | Shape: torch.Size([6, 6])\n",
      "Parameter: tensorized_linear.u2 | Shape: torch.Size([8, 8])\n"
     ]
    }
   ],
   "source": [
    "for name, param in model.named_parameters():\n",
    "    print(f\"Parameter: {name} | Shape: {param.shape}\")"
   ]
  },
  {
   "cell_type": "code",
   "execution_count": 5,
   "id": "9b1b7d22",
   "metadata": {},
   "outputs": [
    {
     "name": "stdout",
     "output_type": "stream",
     "text": [
      "Total trainable parameters: 400\n"
     ]
    }
   ],
   "source": [
    "import sys\n",
    "sys.path.append(\"..\")  # Make sure the Tensorized_Layers module is in your Python path\n",
    "from Tensorized_Layers.TCL import TCL_extended  # Import your custom TCL layer\n",
    "import torch\n",
    "import torch.nn as nn\n",
    "\n",
    "# Define a simple model using the custom tensorized layer\n",
    "class TensorizedModel(nn.Module):\n",
    "    def __init__(self):\n",
    "        super(TensorizedModel, self).__init__()\n",
    "        # Initialize the TCL layer with provided parameters\n",
    "        self.tensorized_linear = TCL_extended(\n",
    "            input_size=(1, 56, 56, 2, 6, 8),\n",
    "            rank=(2, 6, 8),\n",
    "            ignore_modes=(0, 1, 2),\n",
    "            bias=True,\n",
    "            device=\"cpu\" , \n",
    "            r=2\n",
    "        )\n",
    "    \n",
    "    def forward(self, x):\n",
    "        # Pass the input tensor through the tensorized layer\n",
    "        return self.tensorized_linear(x)\n",
    "\n",
    "# Instantiate the model\n",
    "model = TensorizedModel()\n",
    "\n",
    "# Create a random input tensor with the specified shape (1, 56, 56, 2, 6, 8)\n",
    "input_tensor = torch.randn((1, 56, 56, 2, 6, 8))\n",
    "\n",
    "# Pass the random input tensor through the model\n",
    "output = model(input_tensor)\n",
    "\n",
    "# Calculate the total number of trainable parameters\n",
    "total_params = sum(p.numel() for p in model.parameters() if p.requires_grad)\n",
    "\n",
    "print(\"Total trainable parameters:\", total_params)\n"
   ]
  },
  {
   "cell_type": "code",
   "execution_count": 6,
   "id": "c59173b4",
   "metadata": {},
   "outputs": [
    {
     "name": "stdout",
     "output_type": "stream",
     "text": [
      "Parameter: tensorized_linear.TCLs.0.b | Shape: torch.Size([2, 6, 8])\n",
      "Parameter: tensorized_linear.TCLs.0.u0 | Shape: torch.Size([2, 2])\n",
      "Parameter: tensorized_linear.TCLs.0.u1 | Shape: torch.Size([6, 6])\n",
      "Parameter: tensorized_linear.TCLs.0.u2 | Shape: torch.Size([8, 8])\n",
      "Parameter: tensorized_linear.TCLs.1.b | Shape: torch.Size([2, 6, 8])\n",
      "Parameter: tensorized_linear.TCLs.1.u0 | Shape: torch.Size([2, 2])\n",
      "Parameter: tensorized_linear.TCLs.1.u1 | Shape: torch.Size([6, 6])\n",
      "Parameter: tensorized_linear.TCLs.1.u2 | Shape: torch.Size([8, 8])\n"
     ]
    }
   ],
   "source": [
    "for name, param in model.named_parameters():\n",
    "    print(f\"Parameter: {name} | Shape: {param.shape}\")"
   ]
  }
 ],
 "metadata": {
  "kernelspec": {
   "display_name": "data_science",
   "language": "python",
   "name": "python3"
  },
  "language_info": {
   "codemirror_mode": {
    "name": "ipython",
    "version": 3
   },
   "file_extension": ".py",
   "mimetype": "text/x-python",
   "name": "python",
   "nbconvert_exporter": "python",
   "pygments_lexer": "ipython3",
   "version": "3.12.9"
  }
 },
 "nbformat": 4,
 "nbformat_minor": 5
}
