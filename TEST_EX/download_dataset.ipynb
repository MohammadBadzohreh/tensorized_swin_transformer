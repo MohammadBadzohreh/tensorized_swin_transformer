{
 "cells": [
  {
   "cell_type": "code",
   "execution_count": null,
   "id": "7d45d3e3",
   "metadata": {},
   "outputs": [],
   "source": [
    "import os\n",
    "import argparse\n",
    "import torchvision.datasets as datasets\n",
    "import wget\n",
    "import zipfile\n",
    "def download_cifar100(save_dir):\n",
    "    print('Downloading CIFAR-100 dataset...')\n",
    "    os.makedirs(save_dir, exist_ok=True)\n",
    "    datasets.CIFAR100(root=save_dir, download=True)\n",
    "    print('CIFAR-100 dataset downloaded successfully.')    "
   ]
  },
  {
   "cell_type": "code",
   "execution_count": null,
   "id": "e25ee48a",
   "metadata": {},
   "outputs": [
    {
     "name": "stdout",
     "output_type": "stream",
     "text": [
      "Downloading CIFAR-100 dataset...\n"
     ]
    },
    {
     "name": "stderr",
     "output_type": "stream",
     "text": [
      "  0%|          | 492k/169M [01:23<7:34:42, 6.18kB/s] "
     ]
    }
   ],
   "source": [
    "download_cifar100('./')"
   ]
  }
 ],
 "metadata": {
  "kernelspec": {
   "display_name": "data_science",
   "language": "python",
   "name": "python3"
  },
  "language_info": {
   "codemirror_mode": {
    "name": "ipython",
    "version": 3
   },
   "file_extension": ".py",
   "mimetype": "text/x-python",
   "name": "python",
   "nbconvert_exporter": "python",
   "pygments_lexer": "ipython3",
   "version": "3.12.9"
  }
 },
 "nbformat": 4,
 "nbformat_minor": 5
}
