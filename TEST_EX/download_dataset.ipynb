{
 "cells": [
  {
   "cell_type": "code",
   "execution_count": 3,
   "id": "7d45d3e3",
   "metadata": {},
   "outputs": [],
   "source": [
    "import os\n",
    "import argparse\n",
    "import torchvision.datasets as datasets\n",
    "import wget\n",
    "import zipfile\n"
   ]
  },
  {
   "cell_type": "code",
   "execution_count": null,
   "id": "8b4ed9b3",
   "metadata": {},
   "outputs": [],
   "source": [
    "def download_cifar100(save_dir):\n",
    "    print('Downloading CIFAR-100 dataset...')\n",
    "    os.makedirs(save_dir, exist_ok=True)\n",
    "    datasets.CIFAR100(root=save_dir, download=True)\n",
    "    print('CIFAR-100 dataset downloaded successfully.')    "
   ]
  },
  {
   "cell_type": "code",
   "execution_count": 3,
   "id": "e25ee48a",
   "metadata": {},
   "outputs": [
    {
     "name": "stdout",
     "output_type": "stream",
     "text": [
      "Downloading CIFAR-100 dataset...\n"
     ]
    },
    {
     "name": "stderr",
     "output_type": "stream",
     "text": [
      "100%|██████████| 169M/169M [02:14<00:00, 1.26MB/s] \n"
     ]
    },
    {
     "name": "stdout",
     "output_type": "stream",
     "text": [
      "CIFAR-100 dataset downloaded successfully.\n"
     ]
    }
   ],
   "source": [
    "download_cifar100('./')"
   ]
  },
  {
   "cell_type": "code",
   "execution_count": 1,
   "id": "33a934ed",
   "metadata": {},
   "outputs": [],
   "source": [
    "def download_cifar10(save_dir):\n",
    "    print('Downloading CIFAR-10 dataset...')\n",
    "    os.makedirs(save_dir, exist_ok=True)\n",
    "    datasets.CIFAR10(root=save_dir, download=True)\n",
    "    print('CIFAR-10 dataset downloaded successfully.')"
   ]
  },
  {
   "cell_type": "code",
   "execution_count": 5,
   "id": "2131b1af",
   "metadata": {},
   "outputs": [
    {
     "name": "stdout",
     "output_type": "stream",
     "text": [
      "Downloading CIFAR-10 dataset...\n"
     ]
    },
    {
     "name": "stderr",
     "output_type": "stream",
     "text": [
      "100%|██████████| 170M/170M [02:19<00:00, 1.23MB/s]   \n"
     ]
    },
    {
     "name": "stdout",
     "output_type": "stream",
     "text": [
      "CIFAR-10 dataset downloaded successfully.\n"
     ]
    }
   ],
   "source": [
    "download_cifar10('./')"
   ]
  }
 ],
 "metadata": {
  "kernelspec": {
   "display_name": "data_science",
   "language": "python",
   "name": "python3"
  },
  "language_info": {
   "codemirror_mode": {
    "name": "ipython",
    "version": 3
   },
   "file_extension": ".py",
   "mimetype": "text/x-python",
   "name": "python",
   "nbconvert_exporter": "python",
   "pygments_lexer": "ipython3",
   "version": "3.12.9"
  }
 },
 "nbformat": 4,
 "nbformat_minor": 5
}
