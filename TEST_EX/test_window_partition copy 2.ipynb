{
 "cells": [
  {
   "cell_type": "code",
   "execution_count": 141,
   "id": "8fc81ccb",
   "metadata": {},
   "outputs": [],
   "source": [
    "import torch\n",
    "import torch.nn as nn"
   ]
  },
  {
   "cell_type": "code",
   "execution_count": 142,
   "id": "c449ca09",
   "metadata": {},
   "outputs": [],
   "source": [
    "def window_partition(x, window_size):\n",
    "    \"\"\"\n",
    "    Args:\n",
    "        x: (B, H, W, C)\n",
    "        window_size (int): window size\n",
    "\n",
    "    Returns:\n",
    "        windows: (num_windows*B, window_size, window_size, C)\n",
    "    \"\"\"\n",
    "    B, H, W, C = x.shape\n",
    "    x = x.view(B, H // window_size, window_size, W // window_size, window_size, C)\n",
    "    windows = x.permute(0, 1, 3, 2, 4, 5).contiguous().view(-1, window_size, window_size, C)\n",
    "    return windows\n",
    "\n",
    "\n",
    "def window_reverse(windows, window_size, H, W):\n",
    "    \"\"\"\n",
    "    Args:\n",
    "        windows: (num_windows*B, window_size, window_size, C)\n",
    "        window_size (int): Window size\n",
    "        H (int): Height of image\n",
    "        W (int): Width of image\n",
    "\n",
    "    Returns:\n",
    "        x: (B, H, W, C)\n",
    "    \"\"\"\n",
    "    B = int(windows.shape[0] / (H * W / window_size / window_size))\n",
    "    x = windows.view(B, H // window_size, W // window_size, window_size, window_size, -1)\n",
    "    x = x.permute(0, 1, 3, 2, 4, 5).contiguous().view(B, H, W, -1)\n",
    "    return x\n"
   ]
  },
  {
   "cell_type": "code",
   "execution_count": 143,
   "id": "518e8300",
   "metadata": {},
   "outputs": [],
   "source": [
    "\n",
    "class WindowPartition2(nn.Module):\n",
    "    \"\"\"\n",
    "    Utility module for partitioning and reversing windows in a patch grid.\n",
    "\n",
    "    Input shape: (B, H, W, *embed_dims)\n",
    "    After partitioning with a given window_size, the tensor is reshaped into:\n",
    "        (B, H//window_size, W//window_size, window_size, window_size, *embed_dims)\n",
    "    \"\"\"\n",
    "    def __init__(self, window_size: int):\n",
    "        super(WindowPartition2, self).__init__()\n",
    "        self.window_size = window_size\n",
    "\n",
    "    def forward(self, x: torch.Tensor) -> torch.Tensor:\n",
    "        \"\"\"\n",
    "        Partition the input tensor into non-overlapping windows.\n",
    "\n",
    "        Args:\n",
    "            x (torch.Tensor): Input tensor of shape (B, H, W, *embed_dims).\n",
    "\n",
    "        Returns:\n",
    "            torch.Tensor: Partitioned tensor with shape \n",
    "                (B, H//window_size, W//window_size, window_size, window_size, *embed_dims).\n",
    "        \"\"\"\n",
    "        B, H, W, *embed_dims = x.shape\n",
    "        ws = self.window_size\n",
    "        if H % ws != 0 or W % ws != 0:\n",
    "            raise ValueError(f\"H and W must be divisible by window_size {ws}. Got H={H}, W={W}.\")\n",
    "        # Reshape to split H and W into windows.\n",
    "        x = x.view(B, H // ws, ws, W // ws, ws, *embed_dims)\n",
    "        # Permute to group the window blocks together.\n",
    "        windows = x.permute(0, 1, 3, 2, 4, *range(5, x.dim()))\n",
    "        return windows\n",
    "\n",
    "    def reverse(self, windows: torch.Tensor, H: int, W: int) -> torch.Tensor:\n",
    "        \"\"\"\n",
    "        Reverse the window partition to reconstruct the original tensor.\n",
    "\n",
    "        Args:\n",
    "            windows (torch.Tensor): Partitioned windows with shape \n",
    "                (B, H//window_size, W//window_size, window_size, window_size, *embed_dims).\n",
    "            H (int): Original height.\n",
    "            W (int): Original width.\n",
    "\n",
    "        Returns:\n",
    "            torch.Tensor: Reconstructed tensor of shape (B, H, W, *embed_dims).\n",
    "        \"\"\"\n",
    "        ws = self.window_size\n",
    "        B, num_h, num_w, ws1, ws2, *embed_dims = windows.shape\n",
    "        # Permute back to interleave the window dimensions.\n",
    "        x = windows.permute(0, 1, 3, 2, 4, *range(5, windows.dim())).contiguous()\n",
    "        # Reshape to reconstruct the original feature map.\n",
    "        x = x.view(B, num_h * ws1, num_w * ws2, *embed_dims)\n",
    "        return x\n"
   ]
  },
  {
   "cell_type": "code",
   "execution_count": 144,
   "id": "f1c7335f",
   "metadata": {},
   "outputs": [
    {
     "name": "stdout",
     "output_type": "stream",
     "text": [
      "Shape of windows after partitioning: torch.Size([128, 7, 7, 48])\n",
      "Shape after reversing the windows: torch.Size([2, 56, 56, 48])\n",
      "True\n"
     ]
    }
   ],
   "source": [
    "\n",
    "B, H, W, C = 2, 56,56, 48  # Batch size = 2, height = 16, width = 16, channels = 3\n",
    "x = torch.randn(B, H, W, C)  # Random tensor for example\n",
    "x_tensorized = x.view(B, H, W, 4, 4, 3)\n",
    "\n",
    "# Define the window size\n",
    "window_size =7  # You can change this value depending on your model's configuration\n",
    "\n",
    "# Step 1: Partition the input tensor into windows\n",
    "windows = window_partition(x, window_size)\n",
    "print(\"Shape of windows after partitioning:\", windows.shape)\n",
    "\n",
    "# Step 3: Reverse the windows back to the original shape\n",
    "reconstructed_x = window_reverse(windows, window_size, H, W)\n",
    "print(\"Shape after reversing the windows:\", reconstructed_x.shape)\n",
    "\n",
    "# Ensure the reconstructed tensor matches the original shape\n",
    "print(reconstructed_x.shape == x.shape)"
   ]
  },
  {
   "cell_type": "code",
   "execution_count": 145,
   "id": "6e2bce49",
   "metadata": {},
   "outputs": [
    {
     "name": "stdout",
     "output_type": "stream",
     "text": [
      "Partitioned shape: torch.Size([2, 8, 8, 7, 7, 4, 4, 3])\n"
     ]
    }
   ],
   "source": [
    "# Initialize the window partition module\n",
    "partitioner = WindowPartition2(window_size)\n",
    "\n",
    "# Partition the windows\n",
    "windows_tensorized = partitioner(x_tensorized)\n",
    "\n",
    "print(\"Partitioned shape:\", windows_tensorized.shape)\n",
    "# Expected: (B, H//ws, W//ws, ws, ws, 4, 4, 3)\n",
    "\n",
    "# Reverse it to get back the original shape\n",
    "# x_reconstructed = partitioner.reverse(windows_tensorized, H, W)\n",
    "\n",
    "# print(\"Reconstructed shape:\", x_reconstructed.shape)\n",
    "# Expected: (B, H, W, 4, 4, 3)\n",
    "\n",
    "# Check if reconstruction is correct\n",
    "# print(\"Reconstruction successful:\", torch.allclose(x, x_reconstructed))"
   ]
  },
  {
   "cell_type": "code",
   "execution_count": 146,
   "id": "8b689ca9",
   "metadata": {},
   "outputs": [
    {
     "name": "stdout",
     "output_type": "stream",
     "text": [
      "torch.Size([7, 7, 48])\n",
      "torch.Size([128, 7, 7, 48])\n",
      "False\n"
     ]
    }
   ],
   "source": [
    "test_tensorized_windows = windows_tensorized[0,0,0,:,:,:,:,:].reshape(7,7,-1)\n",
    "test_windows = windows[:,:,:,:]   \n",
    "\n",
    "print(test_tensorized_windows.shape)\n",
    "\n",
    "print(test_windows.shape)\n",
    "\n",
    "print(torch.equal(test_tensorized_windows , test_windows))"
   ]
  }
 ],
 "metadata": {
  "kernelspec": {
   "display_name": "data_science",
   "language": "python",
   "name": "python3"
  },
  "language_info": {
   "codemirror_mode": {
    "name": "ipython",
    "version": 3
   },
   "file_extension": ".py",
   "mimetype": "text/x-python",
   "name": "python",
   "nbconvert_exporter": "python",
   "pygments_lexer": "ipython3",
   "version": "3.12.9"
  }
 },
 "nbformat": 4,
 "nbformat_minor": 5
}
