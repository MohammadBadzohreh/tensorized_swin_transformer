{
 "cells": [
  {
   "cell_type": "code",
   "execution_count": 1,
   "id": "16287692",
   "metadata": {},
   "outputs": [],
   "source": [
    "import sys\n",
    "sys.path.append('..')\n",
    "import torch\n",
    "import torch.nn as nn\n",
    "from einops import rearrange\n",
    "\n",
    "from Tensorized_Layers.TCL import   TCL as TCL_CHANGED\n",
    "# from Tensorized_Layers.TRL import TRL\n",
    "\n",
    "class PatchEmbedding(nn.Module):\n",
    "    def __init__(self, input_size, patch_size, embed_dim, bias = True, device = 'cuda', ignore_modes = (0,1,2)):\n",
    "        super(PatchEmbedding, self).__init__()\n",
    "        self.input_size = input_size\n",
    "        self.patch_size = patch_size\n",
    "        self.embed_dim = embed_dim\n",
    "        self.bias = bias\n",
    "        self.device = device\n",
    "        self.ignore_modes = ignore_modes\n",
    "\n",
    "        self.tcl_input_size = (self.input_size[0], self.input_size[2]//self.patch_size, self.input_size[3]//self.patch_size,\n",
    "                                self.patch_size, self.patch_size, self.input_size[1]) # patched input image size\n",
    "        self.tcl = TCL_CHANGED(input_size=self.tcl_input_size,\n",
    "                            rank=self.embed_dim,\n",
    "                            ignore_modes=self.ignore_modes,\n",
    "                            bias=self.bias, \n",
    "                            device=self.device)\n",
    "            \n",
    "\n",
    "    def forward(self, x):\n",
    "        x = rearrange(x, \n",
    "                        'b c (p1 h) (p2 w) -> b p1 p2 h w c',\n",
    "                        h=self.patch_size, w=self.patch_size) # X = [B P1 P2 H W C]\n",
    "        \n",
    "        x = self.tcl(x) # X = [B P1 P2 D1 D2 D3]\n",
    "\n",
    "\n",
    "\n",
    "        return x # patches"
   ]
  },
  {
   "cell_type": "code",
   "execution_count": 2,
   "id": "fd441935",
   "metadata": {},
   "outputs": [
    {
     "name": "stdout",
     "output_type": "stream",
     "text": [
      "Output shape: torch.Size([16, 56, 56, 4, 4, 3])\n"
     ]
    }
   ],
   "source": [
    "x = torch.randn(16, 3, 224, 224)\n",
    "\n",
    "patch_embed = PatchEmbedding(\n",
    "    input_size=(16, 3, 224, 224),\n",
    "    patch_size=4,\n",
    "    embed_dim=(4,4,3),\n",
    "    bias=True,\n",
    "    device='cpu'\n",
    ").to('cpu')\n",
    "\n",
    "# 3. Forward pass\n",
    "out = patch_embed(x)\n",
    "\n",
    "print(f\"Output shape: {out.shape}\")"
   ]
  },
  {
   "cell_type": "markdown",
   "id": "74073211",
   "metadata": {},
   "source": [
    "# trl patch embedding"
   ]
  },
  {
   "cell_type": "code",
   "execution_count": 5,
   "id": "5e2629ae",
   "metadata": {},
   "outputs": [],
   "source": [
    "import sys\n",
    "sys.path.append('..')\n",
    "import torch\n",
    "import torch.nn as nn\n",
    "from einops import rearrange\n",
    "\n",
    "from Tensorized_Layers.TCL import   TCL as TCL_CHANGED\n",
    "from Tensorized_Layers.TRL import   TRL\n",
    "# from Tensorized_Layers.TRL import TRL\n",
    "\n",
    "class TRLPatchEmbedding(nn.Module):\n",
    "    def __init__(self, input_size, patch_size, embed_dim, bias = True, device = 'cuda', ignore_modes = (0,1,2)):\n",
    "        super(TRLPatchEmbedding, self).__init__()\n",
    "        self.input_size = input_size\n",
    "        self.patch_size = patch_size\n",
    "        self.embed_dim = embed_dim\n",
    "        self.bias = bias\n",
    "        self.device = device\n",
    "        self.ignore_modes = ignore_modes\n",
    "\n",
    "        self.tcl_input_size = (self.input_size[0], self.input_size[2]//self.patch_size, self.input_size[3]//self.patch_size,\n",
    "                                self.patch_size, self.patch_size, self.input_size[1]) # patched input image size\n",
    "\n",
    "        rank = self.embed_dim + self.embed_dim\n",
    "\n",
    "    \n",
    "        self.trl = TRL(input_size=self.tcl_input_size,\n",
    "                            output=self.embed_dim,\n",
    "                            rank=rank,\n",
    "                            ignore_modes=self.ignore_modes,\n",
    "                            bias=self.bias, \n",
    "                            device=self.device)\n",
    "\n",
    "    def forward(self, x):\n",
    "        x = rearrange(x, \n",
    "                        'b c (p1 h) (p2 w) -> b p1 p2 h w c',\n",
    "                        h=self.patch_size, w=self.patch_size) # X = [B P1 P2 H W C]\n",
    "        \n",
    "\n",
    "        print(\"shape of x is\" , x.shape)\n",
    "        \n",
    "        x = self.trl(x) # X = [B P1 P2 D1 D2 D3]\n",
    "\n",
    "\n",
    "\n",
    "        return x # patches"
   ]
  },
  {
   "cell_type": "code",
   "execution_count": 8,
   "id": "1243b9f8",
   "metadata": {},
   "outputs": [
    {
     "name": "stdout",
     "output_type": "stream",
     "text": [
      "shape of x is torch.Size([16, 56, 56, 4, 4, 3])\n",
      "Output shape: torch.Size([16, 56, 56, 4, 4, 3])\n"
     ]
    }
   ],
   "source": [
    "x = torch.randn(16, 3, 224, 224)\n",
    "\n",
    "patch_embed = TRLPatchEmbedding(\n",
    "    input_size=(16, 3, 224, 224),\n",
    "    patch_size=4,\n",
    "    embed_dim=(4,4,3),\n",
    "    bias=True,\n",
    "    device='cpu'\n",
    ").to('cpu')\n",
    "\n",
    "# 3. Forward pass\n",
    "out = patch_embed(x)\n",
    "\n",
    "print(f\"Output shape: {out.shape}\")"
   ]
  }
 ],
 "metadata": {
  "kernelspec": {
   "display_name": "data_science",
   "language": "python",
   "name": "python3"
  },
  "language_info": {
   "codemirror_mode": {
    "name": "ipython",
    "version": 3
   },
   "file_extension": ".py",
   "mimetype": "text/x-python",
   "name": "python",
   "nbconvert_exporter": "python",
   "pygments_lexer": "ipython3",
   "version": "3.12.9"
  }
 },
 "nbformat": 4,
 "nbformat_minor": 5
}
