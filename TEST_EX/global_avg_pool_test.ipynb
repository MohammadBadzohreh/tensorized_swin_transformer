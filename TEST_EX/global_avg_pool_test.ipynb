{
 "cells": [
  {
   "cell_type": "code",
   "execution_count": 23,
   "metadata": {},
   "outputs": [
    {
     "name": "stdout",
     "output_type": "stream",
     "text": [
      "torch.Size([2, 768])\n",
      "torch.Size([2, 768])\n"
     ]
    }
   ],
   "source": [
    "import torch\n",
    "import torch.nn as nn\n",
    "\n",
    "# Create a tensor with shape (2, 768, 7, 7)\n",
    "x = torch.randn(2, 768, 7, 7)\n",
    "\n",
    "x_mean = x.mean(dim=[2, 3])\n",
    "print(x_mean.shape)\n",
    "\n",
    "\n",
    "# Reshape to (2, 768, 49)\n",
    "x_reshaped = x.view(2, 768, 49)\n",
    "\n",
    "pool = nn.AdaptiveAvgPool1d(1)\n",
    "x_pooled = pool(x_reshaped)\n",
    "x_avg = torch.flatten(x_pooled, 1)  # [B, 768]\n",
    "print(x_avg.shape)"
   ]
  },
  {
   "cell_type": "code",
   "execution_count": 24,
   "metadata": {},
   "outputs": [
    {
     "name": "stdout",
     "output_type": "stream",
     "text": [
      "torch.Size([2, 7, 7, 768])\n",
      "torch.Size([2, 7, 7, 128, 3, 2])\n",
      "torch.Size([2, 128, 3, 2])\n"
     ]
    }
   ],
   "source": [
    "x = x.permute(0, 2, 3, 1)\n",
    "print(x.shape)\n",
    "x = x.reshape(2, 7, 7, 128, 3, 2)\n",
    "print(x.shape)\n",
    "x_mean = x.mean(dim=(1, 2))\n",
    "print(x_mean.shape)"
   ]
  },
  {
   "cell_type": "code",
   "execution_count": 25,
   "metadata": {},
   "outputs": [
    {
     "name": "stdout",
     "output_type": "stream",
     "text": [
      "torch.Size([2, 768])\n",
      "torch.Size([2, 128, 3, 2])\n"
     ]
    }
   ],
   "source": [
    "print(x_avg.shape)\n",
    "print(x_mean.shape)"
   ]
  },
  {
   "cell_type": "code",
   "execution_count": 26,
   "metadata": {},
   "outputs": [
    {
     "data": {
      "text/plain": [
       "True"
      ]
     },
     "execution_count": 26,
     "metadata": {},
     "output_type": "execute_result"
    }
   ],
   "source": [
    "torch.allclose(x_avg[1, :].flatten(), x_mean[1, :, :, :].flatten())"
   ]
  },
  {
   "cell_type": "code",
   "execution_count": 28,
   "metadata": {},
   "outputs": [
    {
     "name": "stdout",
     "output_type": "stream",
     "text": [
      "Merged patch embeddings shape: torch.Size([6, 28, 28, 4, 4, 6])\n"
     ]
    }
   ],
   "source": [
    "import sys\n",
    "sys.path.append(\"..\")\n",
    "import torch\n",
    "import torch.nn as nn\n",
    "from Tensorized_Layers.TCL_CHANGED import TCL_CHANGED  \n",
    "\n",
    "class TensorizedPatchMerging(nn.Module):\n",
    "    def __init__(\n",
    "        self,\n",
    "        input_size=(16, 56, 56, 4, 4, 3),\n",
    "        in_embed_shape=(4, 4, 3),\n",
    "        out_embed_shape=(4, 4, 6),\n",
    "        bias=True,\n",
    "        ignore_modes=(0, 1, 2),\n",
    "        device='cpu'\n",
    "    ):\n",
    "        \"\"\"\n",
    "        Tensorized patch merging for Swin Transformer.\n",
    "\n",
    "        Args:\n",
    "            input_size (tuple): Overall input size tuple.\n",
    "                (e.g., (num_patches, H, W, r1, r2, C)).\n",
    "            in_embed_shape (tuple): Shape of each input patch embedding (r1, r2, C).\n",
    "            out_embed_shape (tuple): Desired shape of each merged patch embedding (r'_1, r'_2, C').\n",
    "            bias (bool): Whether to include bias in the linear reduction.\n",
    "            ignore_modes (tuple): Modes to ignore in the tensorized layer.\n",
    "            device (str): Device to use.\n",
    "        \"\"\"\n",
    "        super(TensorizedPatchMerging, self).__init__()\n",
    "        self.in_r1, self.in_r2, self.in_C = in_embed_shape\n",
    "        self.out_r1, self.out_r2, self.out_C = out_embed_shape\n",
    "        self.in_dim = self.in_r1 * self.in_r2 * self.in_C   # e.g., 4*4*3 = 48\n",
    "        self.out_dim = self.out_r1 * self.out_r2 * self.out_C  # e.g., 4*4*6 = 96\n",
    "\n",
    "        # Validate that standard merging holds: 4 * in_dim should equal 2 * out_dim.\n",
    "        if 4 * self.in_dim != 2 * self.out_dim:\n",
    "            raise ValueError(\n",
    "                f\"Dimension mismatch: expected out_dim = 2 * in_dim, got {self.out_dim} != {2 * self.in_dim}\"\n",
    "            )\n",
    "\n",
    "        self.ignore_modes = ignore_modes\n",
    "        self.bias = bias\n",
    "        self.device = device\n",
    "        self.input_size = input_size\n",
    "\n",
    "        # Adjust the TCL input size for patch merging:\n",
    "        # When merging, spatial dimensions (H, W) are halved, while the channel dimension is quadrupled.\n",
    "        # For example, if input_size=(B, H, W, r1, r2, C), then the merged tensor shape will be:\n",
    "        # (B, H/2, W/2, r1, r2, 4*C)\n",
    "        self.tcl_input_size = (\n",
    "            self.input_size[0],\n",
    "            self.input_size[1] // 2,\n",
    "            self.input_size[2] // 2,\n",
    "            self.input_size[3],\n",
    "            self.input_size[4],\n",
    "            4 * self.input_size[5]\n",
    "        )\n",
    "\n",
    "        # Instantiate the TCL layer for patch merging.\n",
    "        self.tcl = TCL_CHANGED(\n",
    "            input_size=self.tcl_input_size,\n",
    "            rank=out_embed_shape,\n",
    "            ignore_modes=self.ignore_modes,\n",
    "            bias=self.bias,\n",
    "            device=self.device\n",
    "        )\n",
    "\n",
    "    def forward(self, x):\n",
    "        \"\"\"\n",
    "        Forward pass.\n",
    "\n",
    "        Args:\n",
    "            x (Tensor): Input tensor of shape (B, H, W, in_r1, in_r2, in_C).\n",
    "\n",
    "        Returns:\n",
    "            Tensor: Merged patch embeddings of shape (B, H/2, W/2, out_r1, out_r2, out_C).\n",
    "        \"\"\"\n",
    "        B, H, W, r1, r2, C = x.shape\n",
    "        if (r1, r2, C) != (self.in_r1, self.in_r2, self.in_C):\n",
    "            raise ValueError(\"Input patch embedding shape mismatch.\")\n",
    "\n",
    "        # Extract 2x2 neighboring patches along the spatial dimensions.\n",
    "        top_left     = x[:, 0::2, 0::2, :, :, :]\n",
    "        bottom_left  = x[:, 1::2, 0::2, :, :, :]\n",
    "        top_right    = x[:, 0::2, 1::2, :, :, :]\n",
    "        bottom_right = x[:, 1::2, 1::2, :, :, :]\n",
    "\n",
    "        # Concatenate along the channel dimension.\n",
    "        x_merged = torch.cat([top_left, bottom_left, top_right, bottom_right], dim=-1)\n",
    "        # x_merged now has shape: (B, H/2, W/2, r1, r2, 4*C)\n",
    "\n",
    "        # Apply the tensorized linear layer to merge patches.\n",
    "        out = self.tcl(x_merged)\n",
    "        return out\n",
    "\n",
    "# -------------------------------\n",
    "# Example usage:\n",
    "# -------------------------------\n",
    "if __name__ == '__main__':\n",
    "    device = torch.device('cuda' if torch.cuda.is_available() else 'cpu')\n",
    "    # Example input tensor shape: (B, H, W, r1, r2, C)\n",
    "    # For instance, batch=1, H=56, W=56, in_embed_shape=(4, 4, 3)\n",
    "    x = torch.randn(6, 56, 56, 4, 4, 3, device=device)\n",
    "    # Overall input size for patch merging might be provided as follows:\n",
    "    input_size = (6, 56, 56, 4, 4, 3)\n",
    "    in_embed_shape = (4, 4, 3)\n",
    "    out_embed_shape = (4, 4, 6)  # desired merged embedding shape\n",
    "    patch_merging = TensorizedPatchMerging(\n",
    "        input_size=input_size,\n",
    "        in_embed_shape=in_embed_shape,\n",
    "        out_embed_shape=out_embed_shape,\n",
    "        bias=True,\n",
    "        ignore_modes=(0, 1, 2),\n",
    "        device=device\n",
    "    ).to(device)\n",
    "\n",
    "    out = patch_merging(x)\n",
    "    print(\"Merged patch embeddings shape:\", out.shape)\n"
   ]
  }
 ],
 "metadata": {
  "kernelspec": {
   "display_name": "data_science",
   "language": "python",
   "name": "python3"
  },
  "language_info": {
   "codemirror_mode": {
    "name": "ipython",
    "version": 3
   },
   "file_extension": ".py",
   "mimetype": "text/x-python",
   "name": "python",
   "nbconvert_exporter": "python",
   "pygments_lexer": "ipython3",
   "version": "3.12.9"
  }
 },
 "nbformat": 4,
 "nbformat_minor": 2
}
