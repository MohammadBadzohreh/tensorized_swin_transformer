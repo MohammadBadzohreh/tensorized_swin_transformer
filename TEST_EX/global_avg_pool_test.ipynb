{
 "cells": [
  {
   "cell_type": "code",
   "execution_count": 1,
   "metadata": {},
   "outputs": [
    {
     "name": "stdout",
     "output_type": "stream",
     "text": [
      "torch.Size([2, 768])\n",
      "torch.Size([2, 768])\n"
     ]
    }
   ],
   "source": [
    "import torch\n",
    "import torch.nn as nn\n",
    "\n",
    "# Create a tensor with shape (2, 768, 7, 7)\n",
    "x = torch.randn(2, 768, 7, 7)\n",
    "\n",
    "x_mean = x.mean(dim=[2, 3])\n",
    "print(x_mean.shape)\n",
    "\n",
    "\n",
    "# Reshape to (2, 768, 49)\n",
    "x_reshaped = x.view(2, 768, 49)\n",
    "\n",
    "pool = nn.AdaptiveAvgPool1d(1)\n",
    "x_pooled = pool(x_reshaped)\n",
    "x_avg = torch.flatten(x_pooled, 1)  # [B, 768]\n",
    "print(x_avg.shape)"
   ]
  },
  {
   "cell_type": "code",
   "execution_count": 2,
   "metadata": {},
   "outputs": [
    {
     "name": "stdout",
     "output_type": "stream",
     "text": [
      "torch.Size([2, 7, 7, 768])\n",
      "torch.Size([2, 7, 7, 128, 3, 2])\n",
      "torch.Size([2, 128, 3, 2])\n"
     ]
    }
   ],
   "source": [
    "x = x.permute(0, 2, 3, 1)\n",
    "print(x.shape)\n",
    "x = x.reshape(2, 7, 7, 128, 3, 2)\n",
    "print(x.shape)\n",
    "x_mean = x.mean(dim=(1, 2))\n",
    "print(x_mean.shape)"
   ]
  },
  {
   "cell_type": "code",
   "execution_count": 9,
   "metadata": {},
   "outputs": [
    {
     "name": "stdout",
     "output_type": "stream",
     "text": [
      "torch.Size([2, 768])\n",
      "torch.Size([2, 128, 3, 2])\n"
     ]
    }
   ],
   "source": [
    "print(x_avg.shape)\n",
    "print(x_mean.shape)"
   ]
  },
  {
   "cell_type": "code",
   "execution_count": 16,
   "metadata": {},
   "outputs": [
    {
     "data": {
      "text/plain": [
       "True"
      ]
     },
     "execution_count": 16,
     "metadata": {},
     "output_type": "execute_result"
    }
   ],
   "source": [
    "torch.allclose(x_avg[1, :].flatten(), x_mean[1, :, :, :].flatten())"
   ]
  }
 ],
 "metadata": {
  "kernelspec": {
   "display_name": "data_science",
   "language": "python",
   "name": "python3"
  },
  "language_info": {
   "codemirror_mode": {
    "name": "ipython",
    "version": 3
   },
   "file_extension": ".py",
   "mimetype": "text/x-python",
   "name": "python",
   "nbconvert_exporter": "python",
   "pygments_lexer": "ipython3",
   "version": "3.12.9"
  }
 },
 "nbformat": 4,
 "nbformat_minor": 2
}
